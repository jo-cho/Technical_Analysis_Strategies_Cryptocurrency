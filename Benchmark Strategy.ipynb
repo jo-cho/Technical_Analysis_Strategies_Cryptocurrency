{
 "cells": [
  {
   "cell_type": "code",
   "execution_count": 1,
   "metadata": {},
   "outputs": [],
   "source": [
    "# lib\n",
    "import numpy as np\n",
    "import pandas as pd\n",
    "import datetime as dt\n",
    "import matplotlib.pyplot as plt\n",
    "import seaborn as sns; sns.set()\n",
    "\n",
    "# technical analysis\n",
    "import ta"
   ]
  },
  {
   "cell_type": "markdown",
   "metadata": {},
   "source": [
    "## data: 5 minutes data"
   ]
  },
  {
   "cell_type": "code",
   "execution_count": 2,
   "metadata": {},
   "outputs": [
    {
     "data": {
      "text/html": [
       "<div>\n",
       "<style scoped>\n",
       "    .dataframe tbody tr th:only-of-type {\n",
       "        vertical-align: middle;\n",
       "    }\n",
       "\n",
       "    .dataframe tbody tr th {\n",
       "        vertical-align: top;\n",
       "    }\n",
       "\n",
       "    .dataframe thead th {\n",
       "        text-align: right;\n",
       "    }\n",
       "</style>\n",
       "<table border=\"1\" class=\"dataframe\">\n",
       "  <thead>\n",
       "    <tr style=\"text-align: right;\">\n",
       "      <th></th>\n",
       "      <th>open</th>\n",
       "      <th>high</th>\n",
       "      <th>low</th>\n",
       "      <th>close</th>\n",
       "      <th>volume</th>\n",
       "      <th>close_time</th>\n",
       "      <th>quote_av</th>\n",
       "      <th>trades</th>\n",
       "      <th>tb_base_av</th>\n",
       "      <th>tb_quote_av</th>\n",
       "      <th>ignore</th>\n",
       "    </tr>\n",
       "    <tr>\n",
       "      <th>timestamp</th>\n",
       "      <th></th>\n",
       "      <th></th>\n",
       "      <th></th>\n",
       "      <th></th>\n",
       "      <th></th>\n",
       "      <th></th>\n",
       "      <th></th>\n",
       "      <th></th>\n",
       "      <th></th>\n",
       "      <th></th>\n",
       "      <th></th>\n",
       "    </tr>\n",
       "  </thead>\n",
       "  <tbody>\n",
       "    <tr>\n",
       "      <th>2020-04-10 00:00:00</th>\n",
       "      <td>169.56</td>\n",
       "      <td>169.72</td>\n",
       "      <td>169.41</td>\n",
       "      <td>169.43</td>\n",
       "      <td>2906.41820</td>\n",
       "      <td>1586477099999</td>\n",
       "      <td>4.930542e+05</td>\n",
       "      <td>707</td>\n",
       "      <td>2260.79119</td>\n",
       "      <td>3.835677e+05</td>\n",
       "      <td>0</td>\n",
       "    </tr>\n",
       "    <tr>\n",
       "      <th>2020-04-10 00:05:00</th>\n",
       "      <td>169.44</td>\n",
       "      <td>169.59</td>\n",
       "      <td>168.92</td>\n",
       "      <td>169.22</td>\n",
       "      <td>3376.45186</td>\n",
       "      <td>1586477399999</td>\n",
       "      <td>5.711061e+05</td>\n",
       "      <td>1004</td>\n",
       "      <td>1951.63764</td>\n",
       "      <td>3.301054e+05</td>\n",
       "      <td>0</td>\n",
       "    </tr>\n",
       "    <tr>\n",
       "      <th>2020-04-10 00:10:00</th>\n",
       "      <td>169.23</td>\n",
       "      <td>169.42</td>\n",
       "      <td>168.70</td>\n",
       "      <td>168.78</td>\n",
       "      <td>3007.20677</td>\n",
       "      <td>1586477699999</td>\n",
       "      <td>5.081008e+05</td>\n",
       "      <td>752</td>\n",
       "      <td>929.71120</td>\n",
       "      <td>1.571687e+05</td>\n",
       "      <td>0</td>\n",
       "    </tr>\n",
       "    <tr>\n",
       "      <th>2020-04-10 00:15:00</th>\n",
       "      <td>168.84</td>\n",
       "      <td>169.12</td>\n",
       "      <td>168.80</td>\n",
       "      <td>169.00</td>\n",
       "      <td>1465.81110</td>\n",
       "      <td>1586477999999</td>\n",
       "      <td>2.476386e+05</td>\n",
       "      <td>472</td>\n",
       "      <td>637.17163</td>\n",
       "      <td>1.076405e+05</td>\n",
       "      <td>0</td>\n",
       "    </tr>\n",
       "    <tr>\n",
       "      <th>2020-04-10 00:20:00</th>\n",
       "      <td>168.99</td>\n",
       "      <td>169.40</td>\n",
       "      <td>168.96</td>\n",
       "      <td>169.36</td>\n",
       "      <td>1067.16710</td>\n",
       "      <td>1586478299999</td>\n",
       "      <td>1.806507e+05</td>\n",
       "      <td>418</td>\n",
       "      <td>343.42918</td>\n",
       "      <td>5.811992e+04</td>\n",
       "      <td>0</td>\n",
       "    </tr>\n",
       "    <tr>\n",
       "      <th>...</th>\n",
       "      <td>...</td>\n",
       "      <td>...</td>\n",
       "      <td>...</td>\n",
       "      <td>...</td>\n",
       "      <td>...</td>\n",
       "      <td>...</td>\n",
       "      <td>...</td>\n",
       "      <td>...</td>\n",
       "      <td>...</td>\n",
       "      <td>...</td>\n",
       "      <td>...</td>\n",
       "    </tr>\n",
       "    <tr>\n",
       "      <th>2021-04-09 23:40:00</th>\n",
       "      <td>2066.80</td>\n",
       "      <td>2069.36</td>\n",
       "      <td>2065.89</td>\n",
       "      <td>2067.74</td>\n",
       "      <td>696.35201</td>\n",
       "      <td>1618011899999</td>\n",
       "      <td>1.439804e+06</td>\n",
       "      <td>1078</td>\n",
       "      <td>350.52749</td>\n",
       "      <td>7.246912e+05</td>\n",
       "      <td>0</td>\n",
       "    </tr>\n",
       "    <tr>\n",
       "      <th>2021-04-09 23:45:00</th>\n",
       "      <td>2067.75</td>\n",
       "      <td>2070.85</td>\n",
       "      <td>2067.62</td>\n",
       "      <td>2070.42</td>\n",
       "      <td>1039.88778</td>\n",
       "      <td>1618012199999</td>\n",
       "      <td>2.152313e+06</td>\n",
       "      <td>1344</td>\n",
       "      <td>554.96546</td>\n",
       "      <td>1.148618e+06</td>\n",
       "      <td>0</td>\n",
       "    </tr>\n",
       "    <tr>\n",
       "      <th>2021-04-09 23:50:00</th>\n",
       "      <td>2070.42</td>\n",
       "      <td>2070.95</td>\n",
       "      <td>2069.05</td>\n",
       "      <td>2069.52</td>\n",
       "      <td>773.88383</td>\n",
       "      <td>1618012499999</td>\n",
       "      <td>1.601904e+06</td>\n",
       "      <td>1142</td>\n",
       "      <td>428.07969</td>\n",
       "      <td>8.860856e+05</td>\n",
       "      <td>0</td>\n",
       "    </tr>\n",
       "    <tr>\n",
       "      <th>2021-04-09 23:55:00</th>\n",
       "      <td>2069.72</td>\n",
       "      <td>2069.96</td>\n",
       "      <td>2066.24</td>\n",
       "      <td>2066.87</td>\n",
       "      <td>865.66531</td>\n",
       "      <td>1618012799999</td>\n",
       "      <td>1.790270e+06</td>\n",
       "      <td>1206</td>\n",
       "      <td>377.30408</td>\n",
       "      <td>7.802539e+05</td>\n",
       "      <td>0</td>\n",
       "    </tr>\n",
       "    <tr>\n",
       "      <th>2021-04-10 00:00:00</th>\n",
       "      <td>2067.19</td>\n",
       "      <td>2068.01</td>\n",
       "      <td>2060.56</td>\n",
       "      <td>2060.75</td>\n",
       "      <td>1048.32755</td>\n",
       "      <td>1618013099999</td>\n",
       "      <td>2.164657e+06</td>\n",
       "      <td>2137</td>\n",
       "      <td>417.73355</td>\n",
       "      <td>8.626994e+05</td>\n",
       "      <td>0</td>\n",
       "    </tr>\n",
       "  </tbody>\n",
       "</table>\n",
       "<p>104946 rows × 11 columns</p>\n",
       "</div>"
      ],
      "text/plain": [
       "                        open     high      low    close      volume  \\\n",
       "timestamp                                                             \n",
       "2020-04-10 00:00:00   169.56   169.72   169.41   169.43  2906.41820   \n",
       "2020-04-10 00:05:00   169.44   169.59   168.92   169.22  3376.45186   \n",
       "2020-04-10 00:10:00   169.23   169.42   168.70   168.78  3007.20677   \n",
       "2020-04-10 00:15:00   168.84   169.12   168.80   169.00  1465.81110   \n",
       "2020-04-10 00:20:00   168.99   169.40   168.96   169.36  1067.16710   \n",
       "...                      ...      ...      ...      ...         ...   \n",
       "2021-04-09 23:40:00  2066.80  2069.36  2065.89  2067.74   696.35201   \n",
       "2021-04-09 23:45:00  2067.75  2070.85  2067.62  2070.42  1039.88778   \n",
       "2021-04-09 23:50:00  2070.42  2070.95  2069.05  2069.52   773.88383   \n",
       "2021-04-09 23:55:00  2069.72  2069.96  2066.24  2066.87   865.66531   \n",
       "2021-04-10 00:00:00  2067.19  2068.01  2060.56  2060.75  1048.32755   \n",
       "\n",
       "                        close_time      quote_av  trades  tb_base_av  \\\n",
       "timestamp                                                              \n",
       "2020-04-10 00:00:00  1586477099999  4.930542e+05     707  2260.79119   \n",
       "2020-04-10 00:05:00  1586477399999  5.711061e+05    1004  1951.63764   \n",
       "2020-04-10 00:10:00  1586477699999  5.081008e+05     752   929.71120   \n",
       "2020-04-10 00:15:00  1586477999999  2.476386e+05     472   637.17163   \n",
       "2020-04-10 00:20:00  1586478299999  1.806507e+05     418   343.42918   \n",
       "...                            ...           ...     ...         ...   \n",
       "2021-04-09 23:40:00  1618011899999  1.439804e+06    1078   350.52749   \n",
       "2021-04-09 23:45:00  1618012199999  2.152313e+06    1344   554.96546   \n",
       "2021-04-09 23:50:00  1618012499999  1.601904e+06    1142   428.07969   \n",
       "2021-04-09 23:55:00  1618012799999  1.790270e+06    1206   377.30408   \n",
       "2021-04-10 00:00:00  1618013099999  2.164657e+06    2137   417.73355   \n",
       "\n",
       "                      tb_quote_av  ignore  \n",
       "timestamp                                  \n",
       "2020-04-10 00:00:00  3.835677e+05       0  \n",
       "2020-04-10 00:05:00  3.301054e+05       0  \n",
       "2020-04-10 00:10:00  1.571687e+05       0  \n",
       "2020-04-10 00:15:00  1.076405e+05       0  \n",
       "2020-04-10 00:20:00  5.811992e+04       0  \n",
       "...                           ...     ...  \n",
       "2021-04-09 23:40:00  7.246912e+05       0  \n",
       "2021-04-09 23:45:00  1.148618e+06       0  \n",
       "2021-04-09 23:50:00  8.860856e+05       0  \n",
       "2021-04-09 23:55:00  7.802539e+05       0  \n",
       "2021-04-10 00:00:00  8.626994e+05       0  \n",
       "\n",
       "[104946 rows x 11 columns]"
      ]
     },
     "execution_count": 2,
     "metadata": {},
     "output_type": "execute_result"
    }
   ],
   "source": [
    "df_ = pd.read_csv('C:ethusd5min.csv')\n",
    "df = df_.set_index('timestamp')\n",
    "df.index = pd.to_datetime(df.index)\n",
    "df"
   ]
  },
  {
   "cell_type": "code",
   "execution_count": 3,
   "metadata": {},
   "outputs": [],
   "source": [
    "close = pd.to_numeric(df.close)"
   ]
  },
  {
   "cell_type": "markdown",
   "metadata": {},
   "source": [
    "### Benchmark\n",
    "- return every 1 day (daily returns)"
   ]
  },
  {
   "cell_type": "code",
   "execution_count": 4,
   "metadata": {},
   "outputs": [],
   "source": [
    "rets_b = close.iloc[::12*24].pct_change().dropna()"
   ]
  },
  {
   "cell_type": "code",
   "execution_count": 5,
   "metadata": {},
   "outputs": [
    {
     "data": {
      "text/plain": [
       "timestamp\n",
       "2020-04-11 00:00:00   -0.064865\n",
       "2020-04-12 00:00:00    0.003408\n",
       "2020-04-13 00:00:00   -0.012391\n",
       "2020-04-14 00:00:00    0.002739\n",
       "2020-04-15 00:00:00   -0.003430\n",
       "                         ...   \n",
       "2021-04-05 14:35:00    0.015163\n",
       "2021-04-06 14:35:00   -0.018137\n",
       "2021-04-07 14:35:00   -0.033357\n",
       "2021-04-08 14:35:00    0.019816\n",
       "2021-04-09 14:35:00    0.009733\n",
       "Name: close, Length: 364, dtype: float64"
      ]
     },
     "execution_count": 5,
     "metadata": {},
     "output_type": "execute_result"
    }
   ],
   "source": [
    "rets_b"
   ]
  },
  {
   "cell_type": "code",
   "execution_count": 6,
   "metadata": {},
   "outputs": [
    {
     "data": {
      "text/plain": [
       "count    364.000000\n",
       "mean       0.007912\n",
       "std        0.045216\n",
       "min       -0.158700\n",
       "25%       -0.013237\n",
       "50%        0.005597\n",
       "75%        0.028022\n",
       "max        0.180893\n",
       "Name: close, dtype: float64"
      ]
     },
     "execution_count": 6,
     "metadata": {},
     "output_type": "execute_result"
    }
   ],
   "source": [
    "rets_b.describe()"
   ]
  },
  {
   "cell_type": "code",
   "execution_count": 7,
   "metadata": {},
   "outputs": [
    {
     "data": {
      "image/png": "[encoded data removed]",
      "text/plain": [
       "<Figure size 720x432 with 1 Axes>"
      ]
     },
     "metadata": {},
     "output_type": "display_data"
    }
   ],
   "source": [
    "plt.figure(figsize=(10,6))\n",
    "sns.distplot(rets_b)\n",
    "plt.title('Distribution of returns')\n",
    "plt.show()"
   ]
  },
  {
   "cell_type": "code",
   "execution_count": 8,
   "metadata": {},
   "outputs": [
    {
     "data": {
      "image/png": "[encoded data removed]",
      "text/plain": [
       "<Figure size 720x432 with 1 Axes>"
      ]
     },
     "metadata": {},
     "output_type": "display_data"
    }
   ],
   "source": [
    "plt.figure(figsize=(10,6))\n",
    "plt.plot(rets_b.cumsum())\n",
    "plt.title('Cumulative returns')\n",
    "plt.show()"
   ]
  },
  {
   "cell_type": "code",
   "execution_count": 9,
   "metadata": {},
   "outputs": [
    {
     "name": "stdout",
     "output_type": "stream",
     "text": [
      "Ann Sharpe Ratio:  3.338377251222563\n"
     ]
    }
   ],
   "source": [
    "SR = rets_b.mean()/rets_b.std()\n",
    "ASR = SR * np.sqrt(len(rets_b))\n",
    "print('Ann Sharpe Ratio: ',ASR)"
   ]
  }
 ],
 "metadata": {
  "kernelspec": {
   "display_name": "Python 3",
   "language": "python",
   "name": "python3"
  },
  "language_info": {
   "codemirror_mode": {
    "name": "ipython",
    "version": 3
   },
   "file_extension": ".py",
   "mimetype": "text/x-python",
   "name": "python",
   "nbconvert_exporter": "python",
   "pygments_lexer": "ipython3",
   "version": "3.7.7"
  }
 },
 "nbformat": 4,
 "nbformat_minor": 4
}
